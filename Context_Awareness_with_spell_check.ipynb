{
  "nbformat": 4,
  "nbformat_minor": 0,
  "metadata": {
    "colab": {
      "provenance": [],
      "authorship_tag": "ABX9TyMsZB2g8Xs7xBUMp9hn7qNO",
      "include_colab_link": true
    },
    "kernelspec": {
      "name": "python3",
      "display_name": "Python 3"
    },
    "language_info": {
      "name": "python"
    }
  },
  "cells": [
    {
      "cell_type": "markdown",
      "metadata": {
        "id": "view-in-github",
        "colab_type": "text"
      },
      "source": [
        "<a href=\"https://colab.research.google.com/github/Nuwantha97/Sinhala_spell_and_grammer_checker/blob/Notebooks/Context_Awareness_with_spell_check.ipynb\" target=\"_parent\"><img src=\"https://colab.research.google.com/assets/colab-badge.svg\" alt=\"Open In Colab\"/></a>"
      ]
    },
    {
      "cell_type": "markdown",
      "source": [],
      "metadata": {
        "id": "Hz2OKUELh7vz"
      }
    },
    {
      "cell_type": "code",
      "execution_count": null,
      "metadata": {
        "id": "OPzSongvh0kU"
      },
      "outputs": [],
      "source": [
        "from transformers import pipeline\n",
        "\n",
        "# Load a fill-mask pipeline for multilingual model (supports Sinhala)\n",
        "fill_mask = pipeline(\"fill-mask\", model=\"xlm-roberta-base\")\n",
        "\n",
        "# Input sentence with a blank, using the correct mask token\n",
        "sentence = \"මම \" + fill_mask.tokenizer.mask_token + \" පාසැලට බස් මගින් යනවා.\"\n",
        "# or\n",
        "# sentence = f\"මම {fill_mask.tokenizer.mask_token} පාසැලට බස් මගින් යනවා.\"\n",
        "\n",
        "# Get predictions\n",
        "predictions = fill_mask(sentence)\n",
        "\n",
        "# Display predictions\n",
        "for pred in predictions:\n",
        "    print(f\"Word: {pred['token_str']}, Confidence: {pred['score']:.4f}\")"
      ]
    }
  ]
}