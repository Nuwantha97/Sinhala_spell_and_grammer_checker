{
  "nbformat": 4,
  "nbformat_minor": 0,
  "metadata": {
    "colab": {
      "provenance": [],
      "authorship_tag": "ABX9TyPJzjmfaAfI7bqzyE1X/jgp",
      "include_colab_link": true
    },
    "kernelspec": {
      "name": "python3",
      "display_name": "Python 3"
    },
    "language_info": {
      "name": "python"
    }
  },
  "cells": [
    {
      "cell_type": "markdown",
      "metadata": {
        "id": "view-in-github",
        "colab_type": "text"
      },
      "source": [
        "<a href=\"https://colab.research.google.com/github/Nuwantha97/Sinhala_spell_and_grammer_checker/blob/Notebooks/SinhalaBERTo_.ipynb\" target=\"_parent\"><img src=\"https://colab.research.google.com/assets/colab-badge.svg\" alt=\"Open In Colab\"/></a>"
      ]
    },
    {
      "cell_type": "code",
      "execution_count": 2,
      "metadata": {
        "colab": {
          "base_uri": "https://localhost:8080/"
        },
        "id": "gR7jfHc0SfDE",
        "outputId": "cff51e37-5756-4a85-9dc8-e85159b11954"
      },
      "outputs": [
        {
          "output_type": "stream",
          "name": "stderr",
          "text": [
            "Device set to use cpu\n"
          ]
        },
        {
          "output_type": "execute_result",
          "data": {
            "text/plain": [
              "[{'score': 0.18247802555561066,\n",
              "  'token': 1237,\n",
              "  'token_str': ' ආදරය',\n",
              "  'sequence': 'මම ආදරය කරන්න යනවා.'},\n",
              " {'score': 0.12941740453243256,\n",
              "  'token': 498,\n",
              "  'token_str': ' ඒක',\n",
              "  'sequence': 'මම ඒක කරන්න යනවා.'},\n",
              " {'score': 0.09508529305458069,\n",
              "  'token': 446,\n",
              "  'token_str': ' මම',\n",
              "  'sequence': 'මම මම කරන්න යනවා.'},\n",
              " {'score': 0.06248293071985245,\n",
              "  'token': 1190,\n",
              "  'token_str': ' අමතක',\n",
              "  'sequence': 'මම අමතක කරන්න යනවා.'},\n",
              " {'score': 0.04071708768606186,\n",
              "  'token': 1030,\n",
              "  'token_str': ' බය',\n",
              "  'sequence': 'මම බය කරන්න යනවා.'}]"
            ]
          },
          "metadata": {},
          "execution_count": 2
        }
      ],
      "source": [
        "from transformers import AutoTokenizer, AutoModelWithLMHead, pipeline\n",
        "\n",
        "model = AutoModelWithLMHead.from_pretrained(\"keshan/SinhalaBERTo\")\n",
        "tokenizer = AutoTokenizer.from_pretrained(\"keshan/SinhalaBERTo\")\n",
        "\n",
        "fill_mask = pipeline('fill-mask', model=model, tokenizer=tokenizer)\n",
        "\n",
        "fill_mask(\"මම <mask> කරන්න යනවා.\")\n"
      ]
    },
    {
      "cell_type": "code",
      "source": [],
      "metadata": {
        "id": "f4eix0-mVGYy"
      },
      "execution_count": null,
      "outputs": []
    }
  ]
}