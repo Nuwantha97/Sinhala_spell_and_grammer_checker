{
  "nbformat": 4,
  "nbformat_minor": 0,
  "metadata": {
    "colab": {
      "provenance": [],
      "authorship_tag": "ABX9TyMbHi9M7cTWVvr72sPTTjCF",
      "include_colab_link": true
    },
    "kernelspec": {
      "name": "python3",
      "display_name": "Python 3"
    },
    "language_info": {
      "name": "python"
    }
  },
  "cells": [
    {
      "cell_type": "markdown",
      "metadata": {
        "id": "view-in-github",
        "colab_type": "text"
      },
      "source": [
        "<a href=\"https://colab.research.google.com/github/Nuwantha97/Sinhala_spell_and_grammer_checker/blob/Notebooks/Spell_checker.ipynb\" target=\"_parent\"><img src=\"https://colab.research.google.com/assets/colab-badge.svg\" alt=\"Open In Colab\"/></a>"
      ]
    },
    {
      "cell_type": "markdown",
      "source": [
        "## Mount drive"
      ],
      "metadata": {
        "id": "6kCQ2n5_NwZE"
      }
    },
    {
      "cell_type": "code",
      "source": [
        "from google.colab import drive\n",
        "drive.mount('/content/drive')"
      ],
      "metadata": {
        "colab": {
          "base_uri": "https://localhost:8080/"
        },
        "id": "1R5TlIRAN4_s",
        "outputId": "adccf856-6455-44cf-a6cb-5f93718a6b96"
      },
      "execution_count": null,
      "outputs": [
        {
          "output_type": "stream",
          "name": "stdout",
          "text": [
            "Mounted at /content/drive\n"
          ]
        }
      ]
    },
    {
      "cell_type": "markdown",
      "source": [
        "#Edit Distance (Levenshtein Distance)\n"
      ],
      "metadata": {
        "id": "prM_0v8XxJ-T"
      }
    },
    {
      "cell_type": "markdown",
      "source": [
        "The Levenshtein library in Python is a specialized tool for computing Levenshtein distances\n",
        "\n",
        "- Levenshtein Distance: Calculates the minimum edit distance between two strings.\n",
        "- Levenshtein Similarity: Measures how similar two strings are, typically on a scale from 0 to 1.\n",
        "- Other Metrics:\n",
        " - Ratio: A normalized version of the distance (1 - distance/max length).\n",
        " - Hamming Distance: Number of positions where two strings of equal length differ.\n",
        " - Jaro-Winkler Similarity: A more nuanced similarity metric, especially for short strings."
      ],
      "metadata": {
        "id": "zoSzNjSn3-M6"
      }
    },
    {
      "cell_type": "code",
      "execution_count": null,
      "metadata": {
        "id": "6oPOMCsjQ8nN",
        "colab": {
          "base_uri": "https://localhost:8080/"
        },
        "outputId": "6ef57900-5506-472d-b25c-538e86aa9b71"
      },
      "outputs": [
        {
          "output_type": "stream",
          "name": "stdout",
          "text": [
            "Collecting python-Levenshtein\n",
            "  Downloading python_Levenshtein-0.26.1-py3-none-any.whl.metadata (3.7 kB)\n",
            "Collecting Levenshtein==0.26.1 (from python-Levenshtein)\n",
            "  Downloading levenshtein-0.26.1-cp310-cp310-manylinux_2_17_x86_64.manylinux2014_x86_64.whl.metadata (3.2 kB)\n",
            "Collecting rapidfuzz<4.0.0,>=3.9.0 (from Levenshtein==0.26.1->python-Levenshtein)\n",
            "  Downloading rapidfuzz-3.10.1-cp310-cp310-manylinux_2_17_x86_64.manylinux2014_x86_64.whl.metadata (11 kB)\n",
            "Downloading python_Levenshtein-0.26.1-py3-none-any.whl (9.4 kB)\n",
            "Downloading levenshtein-0.26.1-cp310-cp310-manylinux_2_17_x86_64.manylinux2014_x86_64.whl (162 kB)\n",
            "\u001b[2K   \u001b[90m━━━━━━━━━━━━━━━━━━━━━━━━━━━━━━━━━━━━━━━━\u001b[0m \u001b[32m162.6/162.6 kB\u001b[0m \u001b[31m6.4 MB/s\u001b[0m eta \u001b[36m0:00:00\u001b[0m\n",
            "\u001b[?25hDownloading rapidfuzz-3.10.1-cp310-cp310-manylinux_2_17_x86_64.manylinux2014_x86_64.whl (3.1 MB)\n",
            "\u001b[2K   \u001b[90m━━━━━━━━━━━━━━━━━━━━━━━━━━━━━━━━━━━━━━━━\u001b[0m \u001b[32m3.1/3.1 MB\u001b[0m \u001b[31m31.7 MB/s\u001b[0m eta \u001b[36m0:00:00\u001b[0m\n",
            "\u001b[?25hInstalling collected packages: rapidfuzz, Levenshtein, python-Levenshtein\n",
            "Successfully installed Levenshtein-0.26.1 python-Levenshtein-0.26.1 rapidfuzz-3.10.1\n"
          ]
        }
      ],
      "source": [
        "!pip install python-Levenshtein"
      ]
    },
    {
      "cell_type": "code",
      "source": [
        "# Function to load the dictionary from a text file\n",
        "def load_dictionary(file_path):\n",
        "    with open(file_path, 'r', encoding='utf-8') as file:\n",
        "        dictionary = [line.strip() for line in file]\n",
        "    return dictionary"
      ],
      "metadata": {
        "id": "Ckj-t101O9Gy"
      },
      "execution_count": null,
      "outputs": []
    },
    {
      "cell_type": "code",
      "source": [
        "import Levenshtein\n",
        "\n",
        "# Load the dictionary from the text file\n",
        "sinhala_dictionary = load_dictionary('/content/drive/MyDrive/Projects/Sinhala Spell and Grammer checker/sinhala_full_word_list_2016-10-08.txt')\n",
        "\n",
        "# Function to find the closest match\n",
        "def spell_check(word, dictionary):\n",
        "    # Find the word with the minimum distance\n",
        "    closest_word = None\n",
        "    min_distance = float('inf')\n",
        "\n",
        "    for correct_word in dictionary:\n",
        "        distance = Levenshtein.distance(word, correct_word)\n",
        "        if distance < min_distance:\n",
        "            min_distance = distance\n",
        "            closest_word = correct_word\n",
        "\n",
        "    return closest_word, min_distance\n",
        "\n",
        "# Input word\n",
        "input_word = \"අදනවා\"\n",
        "\n",
        "# Perform spell check\n",
        "correct_word, distance = spell_check(input_word, sinhala_dictionary)\n",
        "\n",
        "print(f\"Input Word: {input_word}\")\n",
        "print(f\"Suggested Correction: {correct_word}\")\n",
        "print(f\"Levenshtein Distance: {distance}\")\n"
      ],
      "metadata": {
        "id": "PFxo0QSB3tHv",
        "colab": {
          "base_uri": "https://localhost:8080/"
        },
        "outputId": "aa5afdf2-cd6b-43dc-b2c2-7630cad934c8"
      },
      "execution_count": null,
      "outputs": [
        {
          "output_type": "stream",
          "name": "stdout",
          "text": [
            "Input Word: අදනවා\n",
            "Suggested Correction: අඬනවා\n",
            "Levenshtein Distance: 1\n"
          ]
        }
      ]
    }
  ]
}