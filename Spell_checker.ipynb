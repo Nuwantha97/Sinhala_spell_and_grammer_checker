{
  "nbformat": 4,
  "nbformat_minor": 0,
  "metadata": {
    "colab": {
      "provenance": [],
      "authorship_tag": "ABX9TyPZDXpBVPzvfKMUF+b7f0F1",
      "include_colab_link": true
    },
    "kernelspec": {
      "name": "python3",
      "display_name": "Python 3"
    },
    "language_info": {
      "name": "python"
    }
  },
  "cells": [
    {
      "cell_type": "markdown",
      "metadata": {
        "id": "view-in-github",
        "colab_type": "text"
      },
      "source": [
        "<a href=\"https://colab.research.google.com/github/Nuwantha97/Sinhala_spell_and_grammer_checker/blob/Notebooks/Spell_checker.ipynb\" target=\"_parent\"><img src=\"https://colab.research.google.com/assets/colab-badge.svg\" alt=\"Open In Colab\"/></a>"
      ]
    },
    {
      "cell_type": "markdown",
      "source": [
        "## Mount drive"
      ],
      "metadata": {
        "id": "6kCQ2n5_NwZE"
      }
    },
    {
      "cell_type": "code",
      "source": [
        "from google.colab import drive\n",
        "drive.mount('/content/drive')"
      ],
      "metadata": {
        "colab": {
          "base_uri": "https://localhost:8080/"
        },
        "id": "1R5TlIRAN4_s",
        "outputId": "eac208bf-1f35-4e31-8add-0b6c2c26f0bf"
      },
      "execution_count": 1,
      "outputs": [
        {
          "output_type": "stream",
          "name": "stdout",
          "text": [
            "Mounted at /content/drive\n"
          ]
        }
      ]
    },
    {
      "cell_type": "markdown",
      "source": [
        "\n",
        "Spelling Errors:\n",
        "Focus on the correct arrangement of letters in a word to match its standard or dictionary form.\n",
        "- Example: \"adres\" instead of \"address.\"\n",
        "\n",
        "Grammar Errors:\n",
        "Focus on the syntax, word forms, and sentence structure to convey proper meaning and adhere to language rules.\n",
        "- Example: \"He going to school yesterday\" instead of \"He went to school yesterday.\""
      ],
      "metadata": {
        "id": "SB3evSA56p8p"
      }
    },
    {
      "cell_type": "markdown",
      "source": [
        "#Edit Distance (Levenshtein Distance)\n"
      ],
      "metadata": {
        "id": "prM_0v8XxJ-T"
      }
    },
    {
      "cell_type": "markdown",
      "source": [
        "The Levenshtein library in Python is a specialized tool for computing Levenshtein distances\n",
        "\n",
        "- Levenshtein Distance: Calculates the minimum edit distance between two strings.\n",
        "- Levenshtein Similarity: Measures how similar two strings are, typically on a scale from 0 to 1.\n",
        "- Other Metrics:\n",
        " - Ratio: A normalized version of the distance (1 - distance/max length).\n",
        " - Hamming Distance: Number of positions where two strings of equal length differ.\n",
        " - Jaro-Winkler Similarity: A more nuanced similarity metric, especially for short strings."
      ],
      "metadata": {
        "id": "zoSzNjSn3-M6"
      }
    },
    {
      "cell_type": "code",
      "execution_count": 2,
      "metadata": {
        "id": "6oPOMCsjQ8nN",
        "colab": {
          "base_uri": "https://localhost:8080/"
        },
        "outputId": "6d82d8d9-3e1f-4929-86d1-b26268c36927"
      },
      "outputs": [
        {
          "output_type": "stream",
          "name": "stdout",
          "text": [
            "Collecting python-Levenshtein\n",
            "  Downloading python_Levenshtein-0.26.1-py3-none-any.whl.metadata (3.7 kB)\n",
            "Collecting Levenshtein==0.26.1 (from python-Levenshtein)\n",
            "  Downloading levenshtein-0.26.1-cp310-cp310-manylinux_2_17_x86_64.manylinux2014_x86_64.whl.metadata (3.2 kB)\n",
            "Collecting rapidfuzz<4.0.0,>=3.9.0 (from Levenshtein==0.26.1->python-Levenshtein)\n",
            "  Downloading rapidfuzz-3.11.0-cp310-cp310-manylinux_2_17_x86_64.manylinux2014_x86_64.whl.metadata (11 kB)\n",
            "Downloading python_Levenshtein-0.26.1-py3-none-any.whl (9.4 kB)\n",
            "Downloading levenshtein-0.26.1-cp310-cp310-manylinux_2_17_x86_64.manylinux2014_x86_64.whl (162 kB)\n",
            "\u001b[2K   \u001b[90m━━━━━━━━━━━━━━━━━━━━━━━━━━━━━━━━━━━━━━━━\u001b[0m \u001b[32m162.6/162.6 kB\u001b[0m \u001b[31m8.1 MB/s\u001b[0m eta \u001b[36m0:00:00\u001b[0m\n",
            "\u001b[?25hDownloading rapidfuzz-3.11.0-cp310-cp310-manylinux_2_17_x86_64.manylinux2014_x86_64.whl (3.1 MB)\n",
            "\u001b[2K   \u001b[90m━━━━━━━━━━━━━━━━━━━━━━━━━━━━━━━━━━━━━━━━\u001b[0m \u001b[32m3.1/3.1 MB\u001b[0m \u001b[31m34.3 MB/s\u001b[0m eta \u001b[36m0:00:00\u001b[0m\n",
            "\u001b[?25hInstalling collected packages: rapidfuzz, Levenshtein, python-Levenshtein\n",
            "Successfully installed Levenshtein-0.26.1 python-Levenshtein-0.26.1 rapidfuzz-3.11.0\n"
          ]
        }
      ],
      "source": [
        "!pip install python-Levenshtein"
      ]
    },
    {
      "cell_type": "markdown",
      "source": [
        "# Create Sinhala dictionary (dataset 01)"
      ],
      "metadata": {
        "id": "raDHIiZiH1t6"
      }
    },
    {
      "cell_type": "markdown",
      "source": [
        "## Split word from sentence"
      ],
      "metadata": {
        "id": "oYFYcBq7yi9h"
      }
    },
    {
      "cell_type": "code",
      "source": [
        "# Open the input text file in read mode\n",
        "with open('/content/drive/MyDrive/Projects/Sinhala Spell and Grammer checker/Datasets/sinhala_full_word_list_2016-10-08.txt', 'r', encoding='utf-8') as infile:\n",
        "    # Read all lines from the input file\n",
        "    lines = infile.readlines()\n",
        "\n",
        "# Create a list to store all words\n",
        "words = []\n",
        "\n",
        "# Loop through each line to extract words\n",
        "for line in lines:\n",
        "    # Split the line into words and extend the list\n",
        "    words.extend(line.split())\n"
      ],
      "metadata": {
        "id": "Ew4UBia4wP47"
      },
      "execution_count": 9,
      "outputs": []
    },
    {
      "cell_type": "markdown",
      "source": [
        "## Remove dublicate words"
      ],
      "metadata": {
        "id": "DQHZ_PdyyrXI"
      }
    },
    {
      "cell_type": "code",
      "source": [
        "unique_words = []\n",
        "seen = set()\n",
        "for word in words:\n",
        "    if word not in seen:\n",
        "        unique_words.append(word)\n",
        "        seen.add(word)"
      ],
      "metadata": {
        "id": "9pCQ9qkNy6ul"
      },
      "execution_count": 10,
      "outputs": []
    },
    {
      "cell_type": "markdown",
      "source": [
        "## Remove Non sinhala words"
      ],
      "metadata": {
        "id": "U9uroFdYzhjv"
      }
    },
    {
      "cell_type": "code",
      "source": [
        "import re\n",
        "\n",
        "# Sinhala Unicode character range\n",
        "sinhala_pattern = re.compile(r'^[\\u0D80-\\u0DFF]+$')\n",
        "\n",
        "# Filter Sinhala words\n",
        "sinhala_words = [word for word in unique_words if sinhala_pattern.match(word)]"
      ],
      "metadata": {
        "id": "HXdt1cU61Nje"
      },
      "execution_count": 11,
      "outputs": []
    },
    {
      "cell_type": "code",
      "source": [
        "import csv\n",
        "\n",
        "# Open the output CSV file in write mode\n",
        "with open('/content/drive/MyDrive/Projects/Sinhala Spell and Grammer checker/Datasets/sinhala_dict1.csv', 'w', encoding='utf-8', newline='') as outfile:\n",
        "    writer = csv.writer(outfile)\n",
        "\n",
        "    # Write each word as a new row in the CSV\n",
        "    for word in sinhala_words:\n",
        "        writer.writerow([word])\n",
        "\n",
        "print(\"Words have been written to 'sinhala_dict1.csv' line by line.\")\n"
      ],
      "metadata": {
        "id": "FaRoNcXmmpGM",
        "outputId": "0b60ad66-e69f-4dc0-aa46-04f44672c863",
        "colab": {
          "base_uri": "https://localhost:8080/"
        }
      },
      "execution_count": 12,
      "outputs": [
        {
          "output_type": "stream",
          "name": "stdout",
          "text": [
            "Words have been written to 'sinhala_dict1.csv' line by line.\n"
          ]
        }
      ]
    },
    {
      "cell_type": "markdown",
      "source": [
        "# Dataset 02"
      ],
      "metadata": {
        "id": "laK3SdEkhJI8"
      }
    },
    {
      "cell_type": "code",
      "source": [
        "import pandas as pd\n",
        "\n",
        "# Load the .xlsx file\n",
        "file_path = \"/content/drive/MyDrive/Projects/Sinhala Spell and Grammer checker/Datasets/data-spell-checker.xlsx\"  # Replace with your file's path\n",
        "data = pd.read_excel(file_path)\n",
        "\n",
        "# Filter the rows where label == 1\n",
        "filtered_data = data[data['label'] == 1]\n",
        "\n",
        "# Select only the words column\n",
        "words_with_label_1 = filtered_data['word']\n",
        "\n",
        "# Save the filtered words to a .csv file\n",
        "output_file_path = \"/content/drive/MyDrive/Projects/Sinhala Spell and Grammer checker/Datasets/sinhala_dict2.csv\"  # Replace with your desired output file name\n",
        "words_with_label_1.to_csv(output_file_path, index=False, header=False)\n",
        "\n",
        "print(f\"Filtered words saved to {output_file_path}\")\n"
      ],
      "metadata": {
        "id": "n3ERZwvPhNSt",
        "outputId": "5ddade8a-9259-473f-edc0-6e05b0160b22",
        "colab": {
          "base_uri": "https://localhost:8080/"
        }
      },
      "execution_count": 13,
      "outputs": [
        {
          "output_type": "stream",
          "name": "stdout",
          "text": [
            "Filtered words saved to /content/drive/MyDrive/Projects/Sinhala Spell and Grammer checker/Datasets/sinhala_dict2.csv\n"
          ]
        }
      ]
    },
    {
      "cell_type": "markdown",
      "source": [
        "# Spell check"
      ],
      "metadata": {
        "id": "TvNhSULFJfj5"
      }
    },
    {
      "cell_type": "code",
      "source": [
        "# Function to load the dictionary from a text file\n",
        "def load_dictionary(file_path):\n",
        "    with open(file_path, 'r', encoding='utf-8') as file:\n",
        "        dictionary = [line.strip() for line in file]\n",
        "    return dictionary"
      ],
      "metadata": {
        "id": "Ckj-t101O9Gy"
      },
      "execution_count": 6,
      "outputs": []
    },
    {
      "cell_type": "code",
      "source": [
        "import Levenshtein\n",
        "\n",
        "def spell_check(word, dictionary, top_n=3):\n",
        "    # List to store words with their distances\n",
        "    word_distances = []\n",
        "\n",
        "    for correct_word in dictionary:\n",
        "        # Calculate the Levenshtein distance between the word and dictionary word\n",
        "        distance = Levenshtein.distance(word, correct_word)\n",
        "        word_distances.append((correct_word, distance))\n",
        "\n",
        "    # Sort the list by distance (ascending order)\n",
        "    word_distances.sort(key=lambda x: x[1])\n",
        "\n",
        "    # Return the top N closest words\n",
        "    return word_distances[:top_n]\n",
        "\n",
        "def check_sentence(sentence, sinhala_dictionary):\n",
        "    words = sentence.split()  # Split the input sentence into words\n",
        "    corrected_words = []  # List to store corrected words\n",
        "    distances = []  # List to store Levenshtein distances for each word\n",
        "\n",
        "    for word in words:\n",
        "        # Get the top suggestion (closest word) and its distance\n",
        "        top_words = spell_check(word, sinhala_dictionary, top_n=3)\n",
        "        if top_words:  # Ensure there's at least one suggestion\n",
        "            corrected_word, distance = top_words[0]  # Top suggestion\n",
        "            corrected_words.append(corrected_word)  # Add corrected word\n",
        "            distances.append(distance)  # Add the distance\n",
        "        else:\n",
        "            # If no suggestions, append the original word\n",
        "            corrected_words.append(word)\n",
        "            distances.append(None)  # No distance available\n",
        "\n",
        "        print_suggestion(word, top_words)\n",
        "\n",
        "    # Combine corrected words into a single sentence\n",
        "    corrected_sentence = ' '.join(corrected_words)\n",
        "\n",
        "    # Return values\n",
        "    return sentence, corrected_sentence, distances\n",
        "\n",
        "def print_suggestion(word, top_words):\n",
        "    print(f\"Suggestions for '{word}':\")\n",
        "    for i, (correct_word, distance) in enumerate(top_words, 1):\n",
        "        print(f\"{i}. {correct_word} (Distance: {distance})\")"
      ],
      "metadata": {
        "id": "JR3rxjzBZ4Pf"
      },
      "execution_count": 7,
      "outputs": []
    },
    {
      "cell_type": "code",
      "source": [
        "# Load the dictionary from the text file\n",
        "sinhala_dictionary = load_dictionary('/content/drive/MyDrive/Projects/Sinhala Spell and Grammer checker/Datasets/sinhala_dict2.csv')\n",
        "\n",
        "# Input word\n",
        "sentence = \"මම පොත් ලයනවා\"\n",
        "\n",
        "# Perform spell check\n",
        "sentence, corrected_sentence, distances = check_sentence(sentence, sinhala_dictionary)\n",
        "print(f\"\\nInput Sentence: {sentence}\")\n",
        "print(f\"Suggested Correction: {corrected_sentence}\")\n",
        "print(f\"Levenshtein Distances: {distances}\")"
      ],
      "metadata": {
        "colab": {
          "base_uri": "https://localhost:8080/"
        },
        "id": "6ANPOpArwrW-",
        "outputId": "d198ca34-4a1c-4451-a854-5684e593b804"
      },
      "execution_count": 23,
      "outputs": [
        {
          "output_type": "stream",
          "name": "stdout",
          "text": [
            "Suggestions for 'මම':\n",
            "1. මම (Distance: 0)\n",
            "2. ඇම (Distance: 1)\n",
            "3. ඉම (Distance: 1)\n",
            "Suggestions for 'පොත්':\n",
            "1. පහත් (Distance: 1)\n",
            "2. පොතන (Distance: 1)\n",
            "3. පොත්ත (Distance: 1)\n",
            "Suggestions for 'ලයනවා':\n",
            "1. උයනවා (Distance: 1)\n",
            "2. ගයනවා (Distance: 1)\n",
            "3. යනවා (Distance: 1)\n",
            "\n",
            "Input Sentence: මම පොත් ලයනවා\n",
            "Suggested Correction: මම පහත් උයනවා\n",
            "Levenshtein Distances: [0, 1, 1]\n"
          ]
        }
      ]
    },
    {
      "cell_type": "code",
      "source": [],
      "metadata": {
        "id": "cpMNGlPIlUKD"
      },
      "execution_count": null,
      "outputs": []
    }
  ]
}