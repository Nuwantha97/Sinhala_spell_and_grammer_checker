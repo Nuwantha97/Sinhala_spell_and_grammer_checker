{
  "nbformat": 4,
  "nbformat_minor": 0,
  "metadata": {
    "colab": {
      "provenance": [],
      "authorship_tag": "ABX9TyO7beyrrU0s2es8aM262Xgn",
      "include_colab_link": true
    },
    "kernelspec": {
      "name": "python3",
      "display_name": "Python 3"
    },
    "language_info": {
      "name": "python"
    }
  },
  "cells": [
    {
      "cell_type": "markdown",
      "metadata": {
        "id": "view-in-github",
        "colab_type": "text"
      },
      "source": [
        "<a href=\"https://colab.research.google.com/github/Nuwantha97/Sinhala_spell_and_grammer_checker/blob/Notebooks/Spell_checker.ipynb\" target=\"_parent\"><img src=\"https://colab.research.google.com/assets/colab-badge.svg\" alt=\"Open In Colab\"/></a>"
      ]
    },
    {
      "cell_type": "markdown",
      "source": [
        "## Mount drive"
      ],
      "metadata": {
        "id": "6kCQ2n5_NwZE"
      }
    },
    {
      "cell_type": "code",
      "source": [
        "from google.colab import drive\n",
        "drive.mount('/content/drive')"
      ],
      "metadata": {
        "colab": {
          "base_uri": "https://localhost:8080/"
        },
        "id": "1R5TlIRAN4_s",
        "outputId": "0935cb82-2f50-490b-8a88-be6afb199b2c"
      },
      "execution_count": 4,
      "outputs": [
        {
          "output_type": "stream",
          "name": "stdout",
          "text": [
            "Drive already mounted at /content/drive; to attempt to forcibly remount, call drive.mount(\"/content/drive\", force_remount=True).\n"
          ]
        }
      ]
    },
    {
      "cell_type": "markdown",
      "source": [
        "#Edit Distance (Levenshtein Distance)\n"
      ],
      "metadata": {
        "id": "prM_0v8XxJ-T"
      }
    },
    {
      "cell_type": "markdown",
      "source": [
        "The Levenshtein library in Python is a specialized tool for computing Levenshtein distances\n",
        "\n",
        "- Levenshtein Distance: Calculates the minimum edit distance between two strings.\n",
        "- Levenshtein Similarity: Measures how similar two strings are, typically on a scale from 0 to 1.\n",
        "- Other Metrics:\n",
        " - Ratio: A normalized version of the distance (1 - distance/max length).\n",
        " - Hamming Distance: Number of positions where two strings of equal length differ.\n",
        " - Jaro-Winkler Similarity: A more nuanced similarity metric, especially for short strings."
      ],
      "metadata": {
        "id": "zoSzNjSn3-M6"
      }
    },
    {
      "cell_type": "code",
      "execution_count": null,
      "metadata": {
        "id": "6oPOMCsjQ8nN",
        "colab": {
          "base_uri": "https://localhost:8080/"
        },
        "outputId": "6ef57900-5506-472d-b25c-538e86aa9b71"
      },
      "outputs": [
        {
          "output_type": "stream",
          "name": "stdout",
          "text": [
            "Collecting python-Levenshtein\n",
            "  Downloading python_Levenshtein-0.26.1-py3-none-any.whl.metadata (3.7 kB)\n",
            "Collecting Levenshtein==0.26.1 (from python-Levenshtein)\n",
            "  Downloading levenshtein-0.26.1-cp310-cp310-manylinux_2_17_x86_64.manylinux2014_x86_64.whl.metadata (3.2 kB)\n",
            "Collecting rapidfuzz<4.0.0,>=3.9.0 (from Levenshtein==0.26.1->python-Levenshtein)\n",
            "  Downloading rapidfuzz-3.10.1-cp310-cp310-manylinux_2_17_x86_64.manylinux2014_x86_64.whl.metadata (11 kB)\n",
            "Downloading python_Levenshtein-0.26.1-py3-none-any.whl (9.4 kB)\n",
            "Downloading levenshtein-0.26.1-cp310-cp310-manylinux_2_17_x86_64.manylinux2014_x86_64.whl (162 kB)\n",
            "\u001b[2K   \u001b[90m━━━━━━━━━━━━━━━━━━━━━━━━━━━━━━━━━━━━━━━━\u001b[0m \u001b[32m162.6/162.6 kB\u001b[0m \u001b[31m6.4 MB/s\u001b[0m eta \u001b[36m0:00:00\u001b[0m\n",
            "\u001b[?25hDownloading rapidfuzz-3.10.1-cp310-cp310-manylinux_2_17_x86_64.manylinux2014_x86_64.whl (3.1 MB)\n",
            "\u001b[2K   \u001b[90m━━━━━━━━━━━━━━━━━━━━━━━━━━━━━━━━━━━━━━━━\u001b[0m \u001b[32m3.1/3.1 MB\u001b[0m \u001b[31m31.7 MB/s\u001b[0m eta \u001b[36m0:00:00\u001b[0m\n",
            "\u001b[?25hInstalling collected packages: rapidfuzz, Levenshtein, python-Levenshtein\n",
            "Successfully installed Levenshtein-0.26.1 python-Levenshtein-0.26.1 rapidfuzz-3.10.1\n"
          ]
        }
      ],
      "source": [
        "!pip install python-Levenshtein"
      ]
    },
    {
      "cell_type": "markdown",
      "source": [
        "# Create Sinhala dictionary"
      ],
      "metadata": {
        "id": "raDHIiZiH1t6"
      }
    },
    {
      "cell_type": "markdown",
      "source": [
        "## Split word from sentence"
      ],
      "metadata": {
        "id": "oYFYcBq7yi9h"
      }
    },
    {
      "cell_type": "code",
      "source": [
        "# Open the input text file in read mode\n",
        "with open('/content/drive/MyDrive/Projects/Sinhala Spell and Grammer checker/sinhala_full_word_list_2016-10-08.txt', 'r', encoding='utf-8') as infile:\n",
        "    # Read all lines from the input file\n",
        "    lines = infile.readlines()\n",
        "\n",
        "# Create a list to store all words\n",
        "words = []\n",
        "\n",
        "# Loop through each line to extract words\n",
        "for line in lines:\n",
        "    # Split the line into words and extend the list\n",
        "    words.extend(line.split())\n"
      ],
      "metadata": {
        "id": "Ew4UBia4wP47"
      },
      "execution_count": 27,
      "outputs": []
    },
    {
      "cell_type": "markdown",
      "source": [
        "## Remove dublicate words"
      ],
      "metadata": {
        "id": "DQHZ_PdyyrXI"
      }
    },
    {
      "cell_type": "code",
      "source": [
        "unique_words = []\n",
        "seen = set()\n",
        "for word in words:\n",
        "    if word not in seen:\n",
        "        unique_words.append(word)\n",
        "        seen.add(word)"
      ],
      "metadata": {
        "id": "9pCQ9qkNy6ul"
      },
      "execution_count": 28,
      "outputs": []
    },
    {
      "cell_type": "markdown",
      "source": [
        "## Remove Non sinhala words"
      ],
      "metadata": {
        "id": "U9uroFdYzhjv"
      }
    },
    {
      "cell_type": "code",
      "source": [
        "import re\n",
        "\n",
        "# Sinhala Unicode character range\n",
        "sinhala_pattern = re.compile(r'^[\\u0D80-\\u0DFF]+$')\n",
        "\n",
        "# Filter Sinhala words\n",
        "sinhala_words = [word for word in unique_words if sinhala_pattern.match(word)]"
      ],
      "metadata": {
        "id": "HXdt1cU61Nje"
      },
      "execution_count": 29,
      "outputs": []
    },
    {
      "cell_type": "code",
      "source": [
        "# Open the output text file in write mode\n",
        "with open('/content/drive/MyDrive/Projects/Sinhala Spell and Grammer checker/sinhala_dict1.txt', 'w', encoding='utf-8') as outfile:\n",
        "    # Write each word on a new line\n",
        "    for word in sinhala_words:\n",
        "        outfile.write(word + '\\n')\n",
        "\n",
        "print(\"Words have been written to 'sinhala_dict1.txt' line by line.\")"
      ],
      "metadata": {
        "colab": {
          "base_uri": "https://localhost:8080/"
        },
        "id": "y8I16h-I-zC-",
        "outputId": "42167af6-26ae-412b-823e-d62b1dff712a"
      },
      "execution_count": 30,
      "outputs": [
        {
          "output_type": "stream",
          "name": "stdout",
          "text": [
            "Words have been written to 'output.txt' line by line.\n"
          ]
        }
      ]
    },
    {
      "cell_type": "markdown",
      "source": [
        "# Spell check"
      ],
      "metadata": {
        "id": "TvNhSULFJfj5"
      }
    },
    {
      "cell_type": "code",
      "source": [
        "# Function to load the dictionary from a text file\n",
        "def load_dictionary(file_path):\n",
        "    with open(file_path, 'r', encoding='utf-8') as file:\n",
        "        dictionary = [line.strip() for line in file]\n",
        "    return dictionary"
      ],
      "metadata": {
        "id": "Ckj-t101O9Gy"
      },
      "execution_count": 33,
      "outputs": []
    },
    {
      "cell_type": "code",
      "source": [
        "import Levenshtein\n",
        "\n",
        "def spell_check(word, dictionary, top_n=3):\n",
        "    # List to store words with their distances\n",
        "    word_distances = []\n",
        "\n",
        "    for correct_word in dictionary:\n",
        "        # Calculate the Levenshtein distance between the word and dictionary word\n",
        "        distance = Levenshtein.distance(word, correct_word)\n",
        "        word_distances.append((correct_word, distance))\n",
        "\n",
        "    # Sort the list by distance (ascending order)\n",
        "    word_distances.sort(key=lambda x: x[1])\n",
        "\n",
        "    # Return the top N closest words\n",
        "    return word_distances[:top_n]\n",
        "\n",
        "def check_sentence(sentence, sinhala_dictionary):\n",
        "    words = sentence.split()  # Split the input sentence into words\n",
        "    corrected_words = []  # List to store corrected words\n",
        "    distances = []  # List to store Levenshtein distances for each word\n",
        "\n",
        "    for word in words:\n",
        "        # Get the top suggestion (closest word) and its distance\n",
        "        top_words = spell_check(word, sinhala_dictionary, top_n=3)\n",
        "        if top_words:  # Ensure there's at least one suggestion\n",
        "            corrected_word, distance = top_words[0]  # Top suggestion\n",
        "            corrected_words.append(corrected_word)  # Add corrected word\n",
        "            distances.append(distance)  # Add the distance\n",
        "        else:\n",
        "            # If no suggestions, append the original word\n",
        "            corrected_words.append(word)\n",
        "            distances.append(None)  # No distance available\n",
        "\n",
        "        print_suggestion(word, top_words)\n",
        "\n",
        "    # Combine corrected words into a single sentence\n",
        "    corrected_sentence = ' '.join(corrected_words)\n",
        "\n",
        "    # Return values\n",
        "    return sentence, corrected_sentence, distances\n",
        "\n",
        "def print_suggestion(word, top_words):\n",
        "    print(f\"Suggestions for '{word}':\")\n",
        "    for i, (correct_word, distance) in enumerate(top_words, 1):\n",
        "        print(f\"{i}. {correct_word} (Distance: {distance})\")"
      ],
      "metadata": {
        "id": "JR3rxjzBZ4Pf"
      },
      "execution_count": 65,
      "outputs": []
    },
    {
      "cell_type": "code",
      "source": [
        "# Load the dictionary from the text file\n",
        "sinhala_dictionary = load_dictionary('/content/drive/MyDrive/Projects/Sinhala Spell and Grammer checker/sinhala_dict1.txt')\n",
        "\n",
        "# Input word\n",
        "sentence = \"සුභම සුභ රත්රිය\"\n",
        "\n",
        "# Perform spell check\n",
        "sentence, corrected_sentence, distances = check_sentence(sentence, sinhala_dictionary)\n",
        "print(f\"\\nInput Sentence: {sentence}\")\n",
        "print(f\"Suggested Correction: {corrected_sentence}\")\n",
        "print(f\"Levenshtein Distances: {distances}\")"
      ],
      "metadata": {
        "colab": {
          "base_uri": "https://localhost:8080/"
        },
        "id": "6ANPOpArwrW-",
        "outputId": "e291b57c-4af4-4287-e1ee-7670a792070c"
      },
      "execution_count": 64,
      "outputs": [
        {
          "output_type": "stream",
          "name": "stdout",
          "text": [
            "Suggestions for 'සුභම':\n",
            "1. සුගම (Distance: 1)\n",
            "2. සුභ (Distance: 1)\n",
            "3. සුභග (Distance: 1)\n",
            "Suggestions for 'සුභ':\n",
            "1. සුභ (Distance: 0)\n",
            "2. අසුභ (Distance: 1)\n",
            "3. සුව (Distance: 1)\n",
            "Suggestions for 'රත්රිය':\n",
            "1. රත්නිය (Distance: 1)\n",
            "2. ඇතිරිය (Distance: 2)\n",
            "3. ඉතිරිය (Distance: 2)\n",
            "\n",
            "Input Sentence: සුභම සුභ රත්රිය\n",
            "Suggested Correction: සුගම සුභ රත්නිය\n",
            "Levenshtein Distances: [1, 0, 1]\n"
          ]
        }
      ]
    },
    {
      "cell_type": "code",
      "source": [],
      "metadata": {
        "id": "cpMNGlPIlUKD"
      },
      "execution_count": null,
      "outputs": []
    }
  ]
}